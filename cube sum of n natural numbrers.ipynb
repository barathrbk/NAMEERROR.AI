{
 "cells": [
  {
   "cell_type": "code",
   "execution_count": 14,
   "metadata": {},
   "outputs": [
    {
     "name": "stdout",
     "output_type": "stream",
     "text": [
      "225\n"
     ]
    }
   ],
   "source": [
    "\n",
    "\n",
    "# Returns the sum of series \n",
    "def sumOfSeries(n): \n",
    "    sum = 0\n",
    "    for i in range(1, n+1): \n",
    "        sum +=i*i*i \n",
    "\n",
    "    return sum\n",
    "\n",
    "\n",
    "# Driver Function \n",
    "n = 5\n",
    "print(sumOfSeries(n)) \n"
   ]
  }
 ],
 "metadata": {
  "kernelspec": {
   "display_name": "Python 3",
   "language": "python",
   "name": "python3"
  },
  "language_info": {
   "codemirror_mode": {
    "name": "ipython",
    "version": 3
   },
   "file_extension": ".py",
   "mimetype": "text/x-python",
   "name": "python",
   "nbconvert_exporter": "python",
   "pygments_lexer": "ipython3",
   "version": "3.7.6"
  }
 },
 "nbformat": 4,
 "nbformat_minor": 4
}
